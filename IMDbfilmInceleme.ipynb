{
  "nbformat": 4,
  "nbformat_minor": 0,
  "metadata": {
    "colab": {
      "provenance": [],
      "authorship_tag": "ABX9TyMmZxMBLVG/BNe8oQ+JlwJQ",
      "include_colab_link": true
    },
    "kernelspec": {
      "name": "python3",
      "display_name": "Python 3"
    },
    "language_info": {
      "name": "python"
    }
  },
  "cells": [
    {
      "cell_type": "markdown",
      "metadata": {
        "id": "view-in-github",
        "colab_type": "text"
      },
      "source": [
        "<a href=\"https://colab.research.google.com/github/BuketTaylan/bby-261-ML-Proje/blob/main/IMDbfilmInceleme.ipynb\" target=\"_parent\"><img src=\"https://colab.research.google.com/assets/colab-badge.svg\" alt=\"Open In Colab\"/></a>"
      ]
    },
    {
      "cell_type": "code",
      "execution_count": 18,
      "metadata": {
        "colab": {
          "base_uri": "https://localhost:8080/"
        },
        "id": "eC6pS1GP_fuq",
        "outputId": "4c48ed90-8e26-4a66-e1ec-dc429674cd11"
      },
      "outputs": [
        {
          "output_type": "stream",
          "name": "stdout",
          "text": [
            "Epoch 1/10\n",
            "1/1 [==============================] - 1s 781ms/step - loss: 0.6968 - accuracy: 0.2500 - val_loss: 0.6862 - val_accuracy: 0.5000\n",
            "Epoch 2/10\n",
            "1/1 [==============================] - 0s 34ms/step - loss: 0.6945 - accuracy: 0.2500 - val_loss: 0.6859 - val_accuracy: 1.0000\n",
            "Epoch 3/10\n",
            "1/1 [==============================] - 0s 61ms/step - loss: 0.6922 - accuracy: 0.7500 - val_loss: 0.6855 - val_accuracy: 1.0000\n",
            "Epoch 4/10\n",
            "1/1 [==============================] - 0s 37ms/step - loss: 0.6899 - accuracy: 0.7500 - val_loss: 0.6852 - val_accuracy: 1.0000\n",
            "Epoch 5/10\n",
            "1/1 [==============================] - 0s 32ms/step - loss: 0.6877 - accuracy: 0.7500 - val_loss: 0.6848 - val_accuracy: 1.0000\n",
            "Epoch 6/10\n",
            "1/1 [==============================] - 0s 33ms/step - loss: 0.6854 - accuracy: 0.7500 - val_loss: 0.6845 - val_accuracy: 1.0000\n",
            "Epoch 7/10\n",
            "1/1 [==============================] - 0s 32ms/step - loss: 0.6831 - accuracy: 0.7500 - val_loss: 0.6842 - val_accuracy: 1.0000\n",
            "Epoch 8/10\n",
            "1/1 [==============================] - 0s 32ms/step - loss: 0.6809 - accuracy: 0.7500 - val_loss: 0.6838 - val_accuracy: 1.0000\n",
            "Epoch 9/10\n",
            "1/1 [==============================] - 0s 32ms/step - loss: 0.6786 - accuracy: 0.7500 - val_loss: 0.6835 - val_accuracy: 1.0000\n",
            "Epoch 10/10\n",
            "1/1 [==============================] - 0s 32ms/step - loss: 0.6764 - accuracy: 0.7500 - val_loss: 0.6831 - val_accuracy: 1.0000\n",
            "1/1 [==============================] - 0s 48ms/step\n",
            "Review: Harika bir filmdi!, Predicted Sentiment: Olumlu\n",
            "Review: Rezalet, Predicted Sentiment: Olumsuz\n"
          ]
        }
      ],
      "source": [
        "import tensorflow as tf\n",
        "from tensorflow.keras.preprocessing.text import Tokenizer\n",
        "from tensorflow.keras.preprocessing.sequence import pad_sequences\n",
        "import numpy as np\n",
        "\n",
        "# IMDb film incelemeleri veri kümesi\n",
        "positive_reviews = [\"Harika bir film!\", \"Oyunculuklar mükemmeldi.\", \"Kesinlikle tavsiye ediyorum.\"]\n",
        "negative_reviews = [\"Rezalet!\", \"Zaman kaybı.\", \"Hiç sevmedim.\"]\n",
        "\n",
        "# Veri kümesini oluşturma\n",
        "reviews = positive_reviews + negative_reviews\n",
        "labels = [1, 1, 1, 0, 0, 0]  # 1: Olumlu, 0: Olumsuz\n",
        "\n",
        "# Metin verilerini tokenize edelim.\n",
        "tokenizer = Tokenizer()\n",
        "tokenizer.fit_on_texts(reviews)\n",
        "word_index = tokenizer.word_index\n",
        "\n",
        "# Metin verilerini sayılara dönüştürelim.\n",
        "sequences = tokenizer.texts_to_sequences(reviews)\n",
        "\n",
        "# Metin verilerini aynı uzunluğa getiriyoruz.\n",
        "padded_sequences = pad_sequences(sequences)\n",
        "\n",
        "# Modeli oluşturalım.\n",
        "model = tf.keras.Sequential([\n",
        "    tf.keras.layers.Embedding(len(word_index) + 1, 16, input_length=len(padded_sequences[0])),\n",
        "    tf.keras.layers.GlobalAveragePooling1D(),\n",
        "    tf.keras.layers.Dense(1, activation='sigmoid')\n",
        "])\n",
        "\n",
        "# Modeli derleyelim.\n",
        "model.compile(optimizer='adam', loss='binary_crossentropy', metrics=['accuracy'])\n",
        "\n",
        "# Modeli eğitmek için kullanıyoruz.\n",
        "model.fit(padded_sequences, np.array(labels), epochs=10, validation_split=0.2)\n",
        "\n",
        "# Yeni inceleme metinlerini tahmin ediyoruz.\n",
        "new_reviews = [\"Harika bir filmdi!\", \"Rezalet\"]\n",
        "new_sequences = tokenizer.texts_to_sequences(new_reviews)\n",
        "new_padded_sequences = pad_sequences(new_sequences, maxlen=len(padded_sequences[0]))\n",
        "\n",
        "predictions = model.predict(new_padded_sequences)\n",
        "\n",
        "# Tahmin sonuçlarını gösteriyorum.\n",
        "for i in range(len(new_reviews)):\n",
        "    sentiment = \"Olumlu\" if predictions[i] > 0.5 else \"Olumsuz\" # Tahmin olsasılığına göre duygu durumunu belirliyor.\n",
        "    print(f\"Review: {new_reviews[i]}, Predicted Sentiment: {sentiment}\")\n"
      ]
    }
  ]
}